{
 "cells": [
  {
   "cell_type": "code",
   "execution_count": 1,
   "id": "a3aff0d3",
   "metadata": {},
   "outputs": [],
   "source": [
    "from lstnet import *"
   ]
  },
  {
   "cell_type": "code",
   "execution_count": 2,
   "id": "2b452a4b",
   "metadata": {},
   "outputs": [],
   "source": [
    "def rmse(y_test,y_pred):\n",
    "    return math.sqrt(mean_squared_error(y_test,y_pred))\n",
    "def supervise(data,n_in=1,n_out=1,dropnan=True):\n",
    "    n_vars=1 if type(data) is list else data.shape[1]\n",
    "    df=pd.DataFrame(data)\n",
    "    columns=df.columns\n",
    "    cols,names=list(),list()\n",
    "    for i in range(n_in,0,-1):\n",
    "        cols.append(df.shift(i))\n",
    "        names+= [columns[j]+'(t-'+str(i)+')' for j in range(n_vars)]\n",
    "    for i in range(0,n_out):\n",
    "        cols.append(df.shift(-i))\n",
    "        if i==0:\n",
    "            names+=[(columns[j]+'(t)') for j in range(n_vars)]\n",
    "        else:\n",
    "            names+=[(columns[j]+'(t+'+str(i)+')') for j in range(n_vars)]\n",
    "    agg=pd.concat(cols,axis=1)\n",
    "    agg.columns=names\n",
    "    if dropnan:\n",
    "        agg.dropna(inplace=True)\n",
    "    return agg\n",
    "def root_mse(y_true,y_pred):\n",
    "    return K.sqrt(K.mean(K.square(y_pred-y_true),axis=-1))"
   ]
  },
  {
   "cell_type": "code",
   "execution_count": 3,
   "id": "b7313f6f",
   "metadata": {},
   "outputs": [],
   "source": [
    "train_x=np.random.randint(0,10,(2729, 10, 17))/10.0\n",
    "train_y=np.random.randint(0,10,(2729,))/10.0\n",
    "test_x=np.random.randint(0,10,(140, 10, 17))/10.0\n",
    "test_y=np.random.randint(0,10,(140,))/10.0\n"
   ]
  },
  {
   "cell_type": "markdown",
   "id": "72b6b754",
   "metadata": {},
   "source": [
    "# Set up the experiment environment"
   ]
  },
  {
   "cell_type": "code",
   "execution_count": 4,
   "id": "828a9562",
   "metadata": {},
   "outputs": [],
   "source": [
    "from tensorflow.keras.models import Sequential\n",
    "from tensorflow.keras.layers import *\n",
    "import random\n",
    "import numpy as np\n",
    "import os\n",
    "from tensorflow.keras.callbacks import EarlyStopping\n",
    "def seed_everything(seed=0):\n",
    "    random.seed(seed)\n",
    "    np.random.seed(seed)\n",
    "    tf.random.set_seed(seed)\n",
    "    os.environ['PYTHONHASHSEED'] = str(seed)\n",
    "    os.environ['TF_DETERMINISTIC_OPS'] = '1'\n",
    "seed = 0\n",
    "seed_everything(seed)\n",
    "early_stopping = EarlyStopping(monitor='val_loss', patience=10, verbose=1, mode='min',restore_best_weights=True)\n"
   ]
  },
  {
   "cell_type": "markdown",
   "id": "e17c50f4",
   "metadata": {},
   "source": [
    "# lstnet without attention"
   ]
  },
  {
   "cell_type": "markdown",
   "id": "56c479f0",
   "metadata": {},
   "source": [
    "    lstnet is not a seq2seq model"
   ]
  },
  {
   "cell_type": "code",
   "execution_count": 5,
   "id": "e4b3714f",
   "metadata": {},
   "outputs": [
    {
     "name": "stdout",
     "output_type": "stream",
     "text": [
      "Model: \"model\"\n",
      "__________________________________________________________________________________________________\n",
      "Layer (type)                    Output Shape         Param #     Connected to                     \n",
      "==================================================================================================\n",
      "input_1 (InputLayer)            [(None, 10, 17)]     0                                            \n",
      "__________________________________________________________________________________________________\n",
      "conv1d (Conv1D)                 (None, 10, 56)       2912        input_1[0][0]                    \n",
      "__________________________________________________________________________________________________\n",
      "dropout (Dropout)               (None, 10, 56)       0           conv1d[0][0]                     \n",
      "__________________________________________________________________________________________________\n",
      "lambda_1 (Lambda)               (None, 6, 56)        0           dropout[0][0]                    \n",
      "__________________________________________________________________________________________________\n",
      "lambda_2 (Lambda)               (None, 3, 2, 56)     0           lambda_1[0][0]                   \n",
      "__________________________________________________________________________________________________\n",
      "lambda_3 (Lambda)               (None, 2, 3, 56)     0           lambda_2[0][0]                   \n",
      "__________________________________________________________________________________________________\n",
      "lambda_4 (Lambda)               (None, 3, 56)        0           lambda_3[0][0]                   \n",
      "__________________________________________________________________________________________________\n",
      "gru (GRU)                       (None, 12)           2520        dropout[0][0]                    \n",
      "__________________________________________________________________________________________________\n",
      "gru_1 (GRU)                     (None, 128)          71424       lambda_4[0][0]                   \n",
      "__________________________________________________________________________________________________\n",
      "lambda_6 (Lambda)               (None, 3, 17)        0           input_1[0][0]                    \n",
      "__________________________________________________________________________________________________\n",
      "lambda (Lambda)                 (None, 12)           0           gru[0][0]                        \n",
      "__________________________________________________________________________________________________\n",
      "lambda_5 (Lambda)               (None, 256)          0           gru_1[0][0]                      \n",
      "__________________________________________________________________________________________________\n",
      "lambda_7 (Lambda)               (None, 17, 3)        0           lambda_6[0][0]                   \n",
      "__________________________________________________________________________________________________\n",
      "dropout_1 (Dropout)             (None, 12)           0           lambda[0][0]                     \n",
      "__________________________________________________________________________________________________\n",
      "dropout_2 (Dropout)             (None, 256)          0           lambda_5[0][0]                   \n",
      "__________________________________________________________________________________________________\n",
      "lambda_8 (Lambda)               (None, 3)            0           lambda_7[0][0]                   \n",
      "__________________________________________________________________________________________________\n",
      "concatenate (Concatenate)       (None, 268)          0           dropout_1[0][0]                  \n",
      "                                                                 dropout_2[0][0]                  \n",
      "__________________________________________________________________________________________________\n",
      "dense_2 (Dense)                 (None, 1)            4           lambda_8[0][0]                   \n",
      "__________________________________________________________________________________________________\n",
      "dense_1 (Dense)                 (None, 17)           4573        concatenate[0][0]                \n",
      "__________________________________________________________________________________________________\n",
      "lambda_9 (Lambda)               (None, 17)           0           dense_2[0][0]                    \n",
      "__________________________________________________________________________________________________\n",
      "add (Add)                       (None, 17)           0           dense_1[0][0]                    \n",
      "                                                                 lambda_9[0][0]                   \n",
      "__________________________________________________________________________________________________\n",
      "activation (Activation)         (None, 17)           0           add[0][0]                        \n",
      "__________________________________________________________________________________________________\n",
      "dense (Dense)                   (None, 1)            18          activation[0][0]                 \n",
      "==================================================================================================\n",
      "Total params: 81,451\n",
      "Trainable params: 81,451\n",
      "Non-trainable params: 0\n",
      "__________________________________________________________________________________________________\n"
     ]
    }
   ],
   "source": [
    "model=LSTNet(window=10,dims=17,hidRNN=12,hidCNN=56,hidSkip=128,CNN_kernel=3,\n",
    "             skip=2,highway_window=3,dropout=0.1,output_fun='linear',attention=False,attention_dropout_rate=0.5).make_model()\n",
    "\n",
    "model.summary()"
   ]
  },
  {
   "cell_type": "code",
   "execution_count": 6,
   "id": "43336b92",
   "metadata": {},
   "outputs": [
    {
     "name": "stdout",
     "output_type": "stream",
     "text": [
      "Epoch 1/10\n",
      "86/86 [==============================] - 3s 10ms/step - loss: 0.5113 - val_loss: 0.3071\n",
      "Epoch 2/10\n",
      "86/86 [==============================] - 0s 4ms/step - loss: 0.3092 - val_loss: 0.2720\n",
      "Epoch 3/10\n",
      "86/86 [==============================] - 0s 4ms/step - loss: 0.2803 - val_loss: 0.2612\n",
      "Epoch 4/10\n",
      "86/86 [==============================] - 0s 4ms/step - loss: 0.2687 - val_loss: 0.2623\n",
      "Epoch 5/10\n",
      "86/86 [==============================] - 0s 4ms/step - loss: 0.2614 - val_loss: 0.2616\n",
      "Epoch 6/10\n",
      "86/86 [==============================] - 0s 4ms/step - loss: 0.2553 - val_loss: 0.2689\n",
      "Epoch 7/10\n",
      "86/86 [==============================] - 0s 4ms/step - loss: 0.2512 - val_loss: 0.2619\n",
      "Epoch 8/10\n",
      "86/86 [==============================] - 0s 4ms/step - loss: 0.2492 - val_loss: 0.2772\n",
      "Epoch 9/10\n",
      "86/86 [==============================] - 0s 5ms/step - loss: 0.2449 - val_loss: 0.2716\n",
      "Epoch 10/10\n",
      "86/86 [==============================] - 0s 4ms/step - loss: 0.2424 - val_loss: 0.2643\n"
     ]
    },
    {
     "data": {
      "text/plain": [
       "<tensorflow.python.keras.callbacks.History at 0x1ecc0b238e0>"
      ]
     },
     "execution_count": 6,
     "metadata": {},
     "output_type": "execute_result"
    }
   ],
   "source": [
    "model.compile(optimizer='adam',loss=root_mse)\n",
    "model.fit(train_x,train_y,epochs=10,batch_size=32,validation_data=(test_x,test_y),callbacks=[early_stopping])"
   ]
  },
  {
   "cell_type": "markdown",
   "id": "8fbdcf69",
   "metadata": {},
   "source": [
    "# lstnet with attetion"
   ]
  },
  {
   "cell_type": "code",
   "execution_count": 7,
   "id": "38f06961",
   "metadata": {},
   "outputs": [
    {
     "name": "stdout",
     "output_type": "stream",
     "text": [
      "Model: \"model_1\"\n",
      "__________________________________________________________________________________________________\n",
      "Layer (type)                    Output Shape         Param #     Connected to                     \n",
      "==================================================================================================\n",
      "input_2 (InputLayer)            [(None, 10, 17)]     0                                            \n",
      "__________________________________________________________________________________________________\n",
      "conv1d_1 (Conv1D)               (None, 10, 56)       2912        input_2[0][0]                    \n",
      "__________________________________________________________________________________________________\n",
      "lambda_10 (Lambda)              (None, 3, 17)        0           input_2[0][0]                    \n",
      "__________________________________________________________________________________________________\n",
      "dropout_3 (Dropout)             (None, 10, 56)       0           conv1d_1[0][0]                   \n",
      "__________________________________________________________________________________________________\n",
      "lambda_11 (Lambda)              (None, 17, 3)        0           lambda_10[0][0]                  \n",
      "__________________________________________________________________________________________________\n",
      "gru_2 (GRU)                     (None, 10, 12)       2520        dropout_3[0][0]                  \n",
      "__________________________________________________________________________________________________\n",
      "lambda_12 (Lambda)              (None, 3)            0           lambda_11[0][0]                  \n",
      "__________________________________________________________________________________________________\n",
      "feed__forward__attention (Feed_ (None, 12)           22          gru_2[0][0]                      \n",
      "__________________________________________________________________________________________________\n",
      "dense_5 (Dense)                 (None, 1)            4           lambda_12[0][0]                  \n",
      "__________________________________________________________________________________________________\n",
      "dense_4 (Dense)                 (None, 17)           221         feed__forward__attention[0][0]   \n",
      "__________________________________________________________________________________________________\n",
      "lambda_13 (Lambda)              (None, 17)           0           dense_5[0][0]                    \n",
      "__________________________________________________________________________________________________\n",
      "add_1 (Add)                     (None, 17)           0           dense_4[0][0]                    \n",
      "                                                                 lambda_13[0][0]                  \n",
      "__________________________________________________________________________________________________\n",
      "activation_1 (Activation)       (None, 17)           0           add_1[0][0]                      \n",
      "__________________________________________________________________________________________________\n",
      "dense_3 (Dense)                 (None, 1)            18          activation_1[0][0]               \n",
      "==================================================================================================\n",
      "Total params: 5,697\n",
      "Trainable params: 5,697\n",
      "Non-trainable params: 0\n",
      "__________________________________________________________________________________________________\n"
     ]
    }
   ],
   "source": [
    "model=LSTNet(window=10,dims=17,hidRNN=12,hidCNN=56,hidSkip=128,CNN_kernel=3,\n",
    "             skip=2,highway_window=3,dropout=0.1,output_fun='linear',attention=True,attention_dropout_rate=0.1).make_model()\n",
    "\n",
    "model.summary()"
   ]
  },
  {
   "cell_type": "code",
   "execution_count": 8,
   "id": "66705e1d",
   "metadata": {},
   "outputs": [
    {
     "name": "stdout",
     "output_type": "stream",
     "text": [
      "Epoch 1/1000\n",
      "86/86 [==============================] - 2s 7ms/step - loss: 0.4294 - val_loss: 0.3804\n",
      "Epoch 2/1000\n",
      "86/86 [==============================] - 0s 4ms/step - loss: 0.3613 - val_loss: 0.3637\n",
      "Epoch 3/1000\n",
      "86/86 [==============================] - 0s 4ms/step - loss: 0.3304 - val_loss: 0.3271\n",
      "Epoch 4/1000\n",
      "86/86 [==============================] - 0s 4ms/step - loss: 0.3069 - val_loss: 0.3091\n",
      "Epoch 5/1000\n",
      "86/86 [==============================] - 0s 4ms/step - loss: 0.2892 - val_loss: 0.2923\n",
      "Epoch 6/1000\n",
      "86/86 [==============================] - 0s 4ms/step - loss: 0.2807 - val_loss: 0.2833\n",
      "Epoch 7/1000\n",
      "86/86 [==============================] - 0s 4ms/step - loss: 0.2695 - val_loss: 0.2788\n",
      "Epoch 8/1000\n",
      "86/86 [==============================] - 0s 4ms/step - loss: 0.2611 - val_loss: 0.2727\n",
      "Epoch 9/1000\n",
      "86/86 [==============================] - 0s 4ms/step - loss: 0.2575 - val_loss: 0.2679\n",
      "Epoch 10/1000\n",
      "86/86 [==============================] - 0s 4ms/step - loss: 0.2535 - val_loss: 0.2649\n",
      "Epoch 11/1000\n",
      "86/86 [==============================] - 0s 4ms/step - loss: 0.2517 - val_loss: 0.2649\n",
      "Epoch 12/1000\n",
      "86/86 [==============================] - 0s 4ms/step - loss: 0.2499 - val_loss: 0.2593\n",
      "Epoch 13/1000\n",
      "86/86 [==============================] - 0s 4ms/step - loss: 0.2485 - val_loss: 0.2575\n",
      "Epoch 14/1000\n",
      "86/86 [==============================] - 0s 4ms/step - loss: 0.2479 - val_loss: 0.2569\n",
      "Epoch 15/1000\n",
      "86/86 [==============================] - 0s 4ms/step - loss: 0.2447 - val_loss: 0.2533\n",
      "Epoch 16/1000\n",
      "86/86 [==============================] - 0s 4ms/step - loss: 0.2456 - val_loss: 0.2527\n",
      "Epoch 17/1000\n",
      "86/86 [==============================] - 0s 4ms/step - loss: 0.2433 - val_loss: 0.2561\n",
      "Epoch 18/1000\n",
      "86/86 [==============================] - 0s 4ms/step - loss: 0.2435 - val_loss: 0.2551\n",
      "Epoch 19/1000\n",
      "86/86 [==============================] - 0s 4ms/step - loss: 0.2416 - val_loss: 0.2560\n",
      "Epoch 20/1000\n",
      "86/86 [==============================] - 0s 4ms/step - loss: 0.2410 - val_loss: 0.2502\n",
      "Epoch 21/1000\n",
      "86/86 [==============================] - 0s 4ms/step - loss: 0.2397 - val_loss: 0.2524\n",
      "Epoch 22/1000\n",
      "86/86 [==============================] - 0s 4ms/step - loss: 0.2391 - val_loss: 0.2491\n",
      "Epoch 23/1000\n",
      "86/86 [==============================] - 0s 4ms/step - loss: 0.2371 - val_loss: 0.2497\n",
      "Epoch 24/1000\n",
      "86/86 [==============================] - 0s 4ms/step - loss: 0.2386 - val_loss: 0.2515\n",
      "Epoch 25/1000\n",
      "86/86 [==============================] - 0s 4ms/step - loss: 0.2371 - val_loss: 0.2502\n",
      "Epoch 26/1000\n",
      "86/86 [==============================] - 0s 4ms/step - loss: 0.2347 - val_loss: 0.2489\n",
      "Epoch 27/1000\n",
      "86/86 [==============================] - 0s 4ms/step - loss: 0.2330 - val_loss: 0.2578\n",
      "Epoch 28/1000\n",
      "86/86 [==============================] - 0s 4ms/step - loss: 0.2330 - val_loss: 0.2520\n",
      "Epoch 29/1000\n",
      "86/86 [==============================] - 0s 4ms/step - loss: 0.2312 - val_loss: 0.2544\n",
      "Epoch 30/1000\n",
      "86/86 [==============================] - 0s 4ms/step - loss: 0.2386 - val_loss: 0.2537\n",
      "Epoch 31/1000\n",
      "86/86 [==============================] - 0s 4ms/step - loss: 0.2303 - val_loss: 0.2523\n",
      "Epoch 32/1000\n",
      "86/86 [==============================] - 0s 4ms/step - loss: 0.2255 - val_loss: 0.2632\n",
      "Epoch 33/1000\n",
      "86/86 [==============================] - 0s 4ms/step - loss: 0.2248 - val_loss: 0.2578\n",
      "Epoch 34/1000\n",
      "86/86 [==============================] - 0s 4ms/step - loss: 0.2246 - val_loss: 0.2594\n",
      "Epoch 35/1000\n",
      "86/86 [==============================] - 0s 4ms/step - loss: 0.2224 - val_loss: 0.2639\n",
      "Epoch 36/1000\n",
      "86/86 [==============================] - 0s 4ms/step - loss: 0.2182 - val_loss: 0.2632\n",
      "Restoring model weights from the end of the best epoch.\n",
      "Epoch 00036: early stopping\n"
     ]
    },
    {
     "data": {
      "text/plain": [
       "<tensorflow.python.keras.callbacks.History at 0x1ecc883b430>"
      ]
     },
     "execution_count": 8,
     "metadata": {},
     "output_type": "execute_result"
    }
   ],
   "source": [
    "model.compile(optimizer='adam',loss=root_mse)\n",
    "model.fit(train_x,train_y,epochs=1000,batch_size=32,validation_data=(test_x,test_y),callbacks=[early_stopping])"
   ]
  },
  {
   "cell_type": "code",
   "execution_count": null,
   "id": "29cfb87e",
   "metadata": {},
   "outputs": [],
   "source": []
  }
 ],
 "metadata": {
  "kernelspec": {
   "display_name": "Python 3",
   "language": "python",
   "name": "python3"
  },
  "language_info": {
   "codemirror_mode": {
    "name": "ipython",
    "version": 3
   },
   "file_extension": ".py",
   "mimetype": "text/x-python",
   "name": "python",
   "nbconvert_exporter": "python",
   "pygments_lexer": "ipython3",
   "version": "3.8.8"
  },
  "toc": {
   "base_numbering": 1,
   "nav_menu": {},
   "number_sections": true,
   "sideBar": true,
   "skip_h1_title": false,
   "title_cell": "Table of Contents",
   "title_sidebar": "Contents",
   "toc_cell": false,
   "toc_position": {},
   "toc_section_display": true,
   "toc_window_display": false
  },
  "varInspector": {
   "cols": {
    "lenName": 16,
    "lenType": 16,
    "lenVar": 40
   },
   "kernels_config": {
    "python": {
     "delete_cmd_postfix": "",
     "delete_cmd_prefix": "del ",
     "library": "var_list.py",
     "varRefreshCmd": "print(var_dic_list())"
    },
    "r": {
     "delete_cmd_postfix": ") ",
     "delete_cmd_prefix": "rm(",
     "library": "var_list.r",
     "varRefreshCmd": "cat(var_dic_list()) "
    }
   },
   "types_to_exclude": [
    "module",
    "function",
    "builtin_function_or_method",
    "instance",
    "_Feature"
   ],
   "window_display": false
  }
 },
 "nbformat": 4,
 "nbformat_minor": 5
}
